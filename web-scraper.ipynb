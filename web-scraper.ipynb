{
 "cells": [
  {
   "cell_type": "code",
   "execution_count": 2,
   "id": "6a6e0c40",
   "metadata": {
    "scrolled": true
   },
   "outputs": [],
   "source": [
    "# Imports\n",
    "import pandas as pd\n",
    "from selenium import webdriver\n",
    "from webdriver_manager.chrome import ChromeDriverManager\n",
    "from selenium.webdriver.common.by import By\n",
    "\n",
    "# Install the webdriver_manager pip package in the current Jupyter kernel\n",
    "# import sys\n",
    "# !{sys.executable} -m pip install webdriver_manager"
   ]
  },
  {
   "cell_type": "code",
   "execution_count": 3,
   "id": "d31d584f",
   "metadata": {
    "scrolled": true
   },
   "outputs": [
    {
     "name": "stderr",
     "output_type": "stream",
     "text": [
      "\n",
      "\n",
      "====== WebDriver manager ======\n",
      "Current google-chrome version is 98.0.4758\n",
      "Get LATEST chromedriver version for 98.0.4758 google-chrome\n",
      "There is no [mac64] chromedriver for browser  in cache\n",
      "Trying to download new driver from https://chromedriver.storage.googleapis.com/98.0.4758.102/chromedriver_mac64.zip\n",
      "Driver has been saved in cache [/Users/matt/.wdm/drivers/chromedriver/mac64/98.0.4758.102]\n"
     ]
    }
   ],
   "source": [
    "driver = webdriver.Chrome(ChromeDriverManager().install())"
   ]
  },
  {
   "cell_type": "code",
   "execution_count": 28,
   "id": "1e669d2c",
   "metadata": {},
   "outputs": [],
   "source": [
    "def start_kayak(city_from, city_to, date_start, date_end):\n",
    "    \"\"\"City codes - it's the IATA codes!\n",
    "    Date format -  YYYY-MM-DD\"\"\"\n",
    "    \n",
    "    # Starting kayak chrome \n",
    "    kayak = ('https://www.kayak.co.uk/flights/' + city_from + '-' + city_to +\n",
    "             '/' + date_start + '-flexible/' + date_end + '-flexible?sort=bestflight_a')\n",
    "    driver.get(kayak)"
   ]
  },
  {
   "cell_type": "code",
   "execution_count": 68,
   "id": "abb68549",
   "metadata": {},
   "outputs": [],
   "source": [
    "# functions to obtain each property of a dictionary which will then be the exported csv file\n",
    "\n",
    "\"\"\"\n",
    "{\n",
    "origin: char(3)\n",
    "destination: char(3)\n",
    "time_start: int\n",
    "time_end: int\n",
    "date_start: date\n",
    "date_end: date\n",
    "price: int\n",
    "href: string;\n",
    "}\n",
    "\"\"\"\n",
    "\n",
    "def scrape_hrefs():\n",
    "    \"\"\"\n",
    "    scrape the hrefs on the page\n",
    "    \"\"\"\n",
    "    href_xpath = '//span[contains(text(), \"View Deal\")]//parent::a' \n",
    "    anchors = driver.find_elements(By.XPATH, href_xpath)\n",
    "    \n",
    "    def get_href(anchor):\n",
    "        return anchor.get_attribute(\"href\")\n",
    "    \n",
    "    return list(map(get_href, anchors))\n",
    "\n",
    "def scrape_prices():\n",
    "    \"\"\"\n",
    "    scrape the prices on the page\n",
    "    UNFINISHED - perhaps try using conditional statements in XPath\n",
    "    \"\"\"\n",
    "#     price_xpath = '//span[@class=\"price-text\" and contains(@id, \"-price-text\")]'\n",
    "    price_xpath = '//a[@class=\"booking-link \"]//descendant::span[@class=\"price-text\"]'\n",
    "    prices = driver.find_elements(By.XPATH, price_xpath)\n",
    "    \n",
    "    return len(prices)"
   ]
  },
  {
   "cell_type": "code",
   "execution_count": 29,
   "id": "f90c798d",
   "metadata": {},
   "outputs": [],
   "source": [
    "start_kayak(\"LGW\", \"CDG\", \"2022-03-15\", \"2022-03-22\")"
   ]
  },
  {
   "cell_type": "code",
   "execution_count": 70,
   "id": "1b1c259e",
   "metadata": {
    "scrolled": false
   },
   "outputs": [
    {
     "name": "stdout",
     "output_type": "stream",
     "text": [
      "['https://www.kayak.co.uk/s/clickthrough.jsp?ctyp=SponsoredResultAdBooking&ptyp=F&orig=F..RP..M1&plid=5258829&pid=FlightNetwork_FSR_en_GB&prv=FlightNetwork_FSR_en_GB&srch=KeGiIK36to&ploc=en_GB&atype=SponsoredResult&prc=66.00&cpnid=5010776&xpExt=&aidExt=&lid=FlightNetwork_FSR_en_GB-KeGiIK36to&qorig=Airport:LGW&octid=&qdest=Airport:CDG&qstart=1647316800000&qend=1647921600000&qtravelers=1&qrooms=0&qow=false&qfcc=e&qdctid=36014&qdac=CDG&qshour=-1&qehour=-1&qns=false&qnearby=0&qnearbyo=false&qnearbyd=false&pj=7UZ63GsjwwvIt$70ZhrM8Q==&ah=sovm5gMJEUt3DkHcihVL6$1DoptiS8zbajZ$oHVED_Y&resid=34389e9ba73cde4952315cb179342879&bookid=E-1c4ddf6eb45&seekProv=FLIGHTNETWORK&trueProv=FLIGHTNETWORK&fid=&rank=1&stid=&qadults=1&qchild=0&_sid_=R-5MFxdO6ob2znJduw59Yih-DynTK1fL_LhxeqMIoLKrudaUnNS2bn4gMv1K957S0&payment=0.00:GBP:VA_D:Visa%20Debit:true&pageOrigin=F..RP.FE.M1', 'https://www.kayak.co.uk/book/flight?code=KeGiIK36to.-aKVCW3r_Rk.8846.397ec7dde6ea09eae99a03373a7b1d8c&h=cf7e696a3795&sub=E-15301a66d01&payment=0.00:GBP:VA_D:Visa%20Debit:true&pageOrigin=F..RP.FE.M0', 'https://www.kayak.co.uk/book/flight?code=KeGiIK36to.ocptITJiU2A.6760.f86f287a855e371541169b844db0babf&h=bfaaa190995a&sub=E-1a435c81c29&payment=0.00:GBP:VA_D:Visa%20Debit:true&pageOrigin=F..RP.FE.M1', 'https://www.kayak.co.uk/book/flight?code=KeGiIK36to.ocptITJiU2A.6760.fe5606980df7bb89d0b385a9d525fdb1&h=289b2d2e107a&sub=E-1a435c81c29&payment=0.00:GBP:VA_D:Visa%20Debit:true&pageOrigin=F..RP.FE.M2', 'https://www.kayak.co.uk/book/flight?code=KeGiIK36to.ocptITJiU2A.6760.5abe8ea15dd43f5dcf2d0848bacd9bb6&h=1e43b78422d8&sub=E-1a435c81c29&payment=0.00:GBP:VA_D:Visa%20Debit:true&pageOrigin=F..RP.FE.M3', 'https://www.kayak.co.uk/book/flight?code=KeGiIK36to.ocptITJiU2A.6760.37ffa32f494706a8add544085fd90a26&h=045065952d76&sub=E-1a435c81c29&payment=0.00:GBP:VA_D:Visa%20Debit:true&pageOrigin=F..RP.FE.M4', 'https://www.kayak.co.uk/book/flight?code=KeGiIK36to.ocptITJiU2A.6760.3a47050f2648e54189edff34ccfe8d5f&h=3192510304ed&sub=E-1a435c81c29&payment=0.00:GBP:VA_D:Visa%20Debit:true&pageOrigin=F..RP.FE.M5', 'https://www.kayak.co.uk/book/flight?code=KeGiIK36to.ocptITJiU2A.6895.195ee0f52c32e671a560b0cd9516ab99&h=92fa23333607&sub=E-1a435c81c29&payment=0.00:GBP:VA_D:Visa%20Debit:true&pageOrigin=F..RP.FE.M6', 'https://www.kayak.co.uk/book/flight?code=KeGiIK36to.ocptITJiU2A.6895.093334fb319a4f6efd0ceb8ad4020dc1&h=c5ed34957211&sub=E-1a435c81c29&payment=0.00:GBP:VA_D:Visa%20Debit:true&pageOrigin=F..RP.FE.M7', 'https://www.kayak.co.uk/book/flight?code=KeGiIK36to.ocptITJiU2A.7030.a2708a025ca3ea7d9bde284303fa4780&h=5ca413336df4&sub=E-1a435c81c29&payment=0.00:GBP:VA_D:Visa%20Debit:true&pageOrigin=F..RP.FE.M8', 'https://www.kayak.co.uk/book/flight?code=KeGiIK36to.ocptITJiU2A.7030.91b931fa5b5655499276d726805d7c33&h=42f9744a4d53&sub=E-1a435c81c29&payment=0.00:GBP:VA_D:Visa%20Debit:true&pageOrigin=F..RP.FE.M9', 'https://www.kayak.co.uk/book/flight?code=KeGiIK36to.ocptITJiU2A.7030.2dfbee799ca14dbca2278ab0e0a58fdf&h=0b73d9d3d419&sub=E-1a435c81c29&payment=0.00:GBP:VA_D:Visa%20Debit:true&pageOrigin=F..RP.FE.M10', 'https://www.kayak.co.uk/book/flight?code=KeGiIK36to.ocptITJiU2A.7030.080bd65845c961595e7704b5afecbc80&h=0998f620e737&sub=E-1a435c81c29&payment=0.00:GBP:VA_D:Visa%20Debit:true&pageOrigin=F..RP.FE.M11', 'https://www.kayak.co.uk/book/flight?code=KeGiIK36to.ocptITJiU2A.7030.1f8aeedc48d6095c125b8a3929a25f27&h=9f38db67343f&sub=E-1a435c81c29&payment=0.00:GBP:VA_D:Visa%20Debit:true&pageOrigin=F..RP.FE.M12', 'https://www.kayak.co.uk/book/flight?code=KeGiIK36to.ocptITJiU2A.7030.ad4a9fb60241d44dd6165f9f7b06e078&h=22d932d65e2d&sub=E-1a435c81c29&payment=0.00:GBP:VA_D:Visa%20Debit:true&pageOrigin=F..RP.FE.M13', 'https://www.kayak.co.uk/book/flight?code=KeGiIK36to.ocptITJiU2A.7166.43213fe7f21c68ed9c084e064906812f&h=96e09fd14af4&sub=E-1a435c81c29&payment=0.00:GBP:VA_D:Visa%20Debit:true&pageOrigin=F..RP.FE.M14']\n"
     ]
    }
   ],
   "source": [
    "print(scrape_hrefs())\n",
    "# print(scrape_prices())"
   ]
  }
 ],
 "metadata": {
  "kernelspec": {
   "display_name": "Python 3 (ipykernel)",
   "language": "python",
   "name": "python3"
  },
  "language_info": {
   "codemirror_mode": {
    "name": "ipython",
    "version": 3
   },
   "file_extension": ".py",
   "mimetype": "text/x-python",
   "name": "python",
   "nbconvert_exporter": "python",
   "pygments_lexer": "ipython3",
   "version": "3.9.7"
  }
 },
 "nbformat": 4,
 "nbformat_minor": 5
}
