{
 "cells": [
  {
   "cell_type": "code",
   "execution_count": 1,
   "id": "6a6e0c40",
   "metadata": {
    "scrolled": true
   },
   "outputs": [],
   "source": [
    "# Imports\n",
    "import pandas as pd\n",
    "from selenium import webdriver\n",
    "from webdriver_manager.chrome import ChromeDriverManager\n",
    "from selenium.webdriver.common.by import By\n",
    "from time import sleep\n",
    "\n",
    "# Install the webdriver_manager pip package in the current Jupyter kernel\n",
    "# import sys\n",
    "# !{sys.executable} -m pip install asyncio"
   ]
  },
  {
   "cell_type": "code",
   "execution_count": 2,
   "id": "d31d584f",
   "metadata": {
    "scrolled": false
   },
   "outputs": [
    {
     "name": "stderr",
     "output_type": "stream",
     "text": [
      "\n",
      "\n",
      "====== WebDriver manager ======\n",
      "Current google-chrome version is 98.0.4758\n",
      "Get LATEST chromedriver version for 98.0.4758 google-chrome\n",
      "Driver [/Users/matt/.wdm/drivers/chromedriver/mac64/98.0.4758.102/chromedriver] found in cache\n"
     ]
    }
   ],
   "source": [
    "driver = webdriver.Chrome(ChromeDriverManager().install())"
   ]
  },
  {
   "cell_type": "code",
   "execution_count": 7,
   "id": "1e669d2c",
   "metadata": {},
   "outputs": [],
   "source": [
    "def start_kayak(city_from, city_to, date_start, date_end):\n",
    "    \"\"\"City codes - it's the IATA codes!\n",
    "    Date format -  YYYY-MM-DD\"\"\"\n",
    "    \n",
    "    # Starting kayak chrome \n",
    "    kayak = ('https://www.kayak.co.uk/flights/' + city_from + '-' + city_to +\n",
    "             '/' + date_start + '-flexible/' + date_end + '-flexible?sort=bestflight_a')\n",
    "    driver.get(kayak)\n",
    "    sleep(5) # sleep to allow the website to load\n",
    "    \n",
    "    # If the privacy modal opens, click accept\n",
    "    try:\n",
    "        accept_button_xpath = '//button[contains(@id, \"-accept\")]'\n",
    "        accept_button = driver.find_element(By.XPATH, accept_button_xpath)\n",
    "        accept_button.click()\n",
    "        sleep(1)\n",
    "    except Exception as e:\n",
    "        # try clicking accept all on the other flavour of privacy modal\n",
    "        # try:\n",
    "        print(e)\n",
    "    \n",
    "    # Click on filter to include flights only\n",
    "    try: \n",
    "        plane_only_xpath = '//button[contains(@id, \"-transportation_plane-only\")]'\n",
    "        plane_only_button = driver.find_element(By.XPATH, plane_only_xpath)\n",
    "        plane_only_button.click()\n",
    "        sleep(1)\n",
    "    except Exception as e:\n",
    "        print(e)\n",
    "    \n",
    "    "
   ]
  },
  {
   "cell_type": "code",
   "execution_count": 4,
   "id": "abb68549",
   "metadata": {},
   "outputs": [],
   "source": [
    "# functions to obtain each property of a dictionary which will then be the exported csv file\n",
    "\n",
    "\"\"\"\n",
    "{\n",
    "origin: char(3)\n",
    "destination: char(3)\n",
    "time_start: int\n",
    "time_end: int\n",
    "date_start: date\n",
    "date_end: date\n",
    "price: int\n",
    "href: string;\n",
    "}\n",
    "\"\"\"\n",
    "\n",
    "# need to find a way to scrape a single flight, then iterate\n",
    "\n",
    "def scrape_hrefs():\n",
    "    \"\"\"\n",
    "    scrape the hrefs on the page\n",
    "    \"\"\"\n",
    "    href_xpath = '//span[contains(text(), \"View Deal\")]//parent::a' \n",
    "    anchors = driver.find_elements(By.XPATH, href_xpath)\n",
    "    \n",
    "    def get_href(anchor):\n",
    "        return anchor.get_attribute(\"href\")\n",
    "    \n",
    "    print(len(anchors))\n",
    "    \n",
    "    return list(map(get_href, anchors))\n",
    "\n",
    "def scrape_prices(): \n",
    "    \"\"\"\n",
    "    scrape the prices on the page\n",
    "    \"\"\"\n",
    "    \n",
    "    price_xpath = '//a[contains(@aria-label, \"View Deal:\")]//span[@class=\"price-text\"]'\n",
    "    spans = driver.find_elements(By.XPATH, price_xpath)\n",
    "    \n",
    "    def get_price(span):\n",
    "        return span.text;\n",
    "    \n",
    "    print(len(spans))\n",
    "    \n",
    "    return list(map(get_price, spans))\n",
    "\n",
    "def scrape_time_start():\n",
    "    pass\n",
    "\n",
    "def scrape_time_end():\n",
    "    pass\n",
    "\n",
    "def scrape_date_start():\n",
    "    \"\"\"\n",
    "    \"\"\"\n",
    "    dates_xpath = '//div[@class=\"section stacked-carriers with-date\"]//span[@class=\"flag\"]'\n",
    "    spans = driver.find_elements(By.XPATH, dates_xpath)\n",
    "    \n",
    "    def separate_into_pairs():\n",
    "        for i in range(0, len(lst), 2):\n",
    "            yield lst[i:i + 2]\n",
    "    \n",
    "    print(len(spans))\n",
    "    \n",
    "    for span in spans:\n",
    "        print(span.text)\n",
    "\n",
    "def scrape_date_end():\n",
    "    pass"
   ]
  },
  {
   "cell_type": "code",
   "execution_count": 8,
   "id": "f90c798d",
   "metadata": {},
   "outputs": [
    {
     "name": "stdout",
     "output_type": "stream",
     "text": [
      "Message: no such element: Unable to locate element: {\"method\":\"xpath\",\"selector\":\"//button[contains(@id, \"-accept\")]\"}\n",
      "  (Session info: chrome=98.0.4758.102)\n",
      "\n",
      "Message: element click intercepted: Element <button role=\"button\" id=\"AfcZ-transportation-8069-transportation_plane-only\" tabindex=\"0\" aria-label=\"Flights only\" class=\"only Button-No-Standard-Style \">...</button> is not clickable at point (376, 949). Other element would receive the click: <h3 id=\"AfcZ-triplength-section-title-text\" class=\"title\">...</h3>\n",
      "  (Session info: chrome=98.0.4758.102)\n",
      "\n"
     ]
    }
   ],
   "source": [
    "start_kayak(\"LGW\", \"CDG\", \"2022-03-15\", \"2022-03-22\")"
   ]
  },
  {
   "cell_type": "code",
   "execution_count": 9,
   "id": "1b1c259e",
   "metadata": {
    "scrolled": true
   },
   "outputs": [
    {
     "name": "stdout",
     "output_type": "stream",
     "text": [
      "46\n",
      "19/3\n",
      "23/3\n",
      "19/3\n",
      "16/3\n",
      "19/3\n",
      "19/3\n",
      "16/3\n",
      "19/3\n",
      "16/3\n",
      "23/3\n",
      "23/3\n",
      "19/3\n",
      "16/3\n",
      "16/3\n",
      "24/3\n",
      "14/3\n",
      "19/3\n",
      "14/3\n",
      "23/3\n",
      "14/3\n",
      "19/3\n",
      "14/3\n",
      "19/3\n",
      "14/3\n",
      "24/3\n",
      "14/3\n",
      "19/3\n",
      "14/3\n",
      "23/3\n",
      "19/3\n",
      "16/3\n",
      "19/3\n",
      "19/3\n",
      "25/3\n",
      "16/3\n",
      "16/3\n",
      "19/3\n",
      "16/3\n",
      "25/3\n",
      "25/3\n",
      "14/3\n",
      "19/3\n",
      "16/3\n",
      "19/3\n",
      "16/3\n",
      "23/3\n",
      "None\n"
     ]
    }
   ],
   "source": [
    "# print(scrape_hrefs())\n",
    "# print(scrape_prices())\n",
    "print(scrape_date_start())"
   ]
  }
 ],
 "metadata": {
  "kernelspec": {
   "display_name": "Python 3 (ipykernel)",
   "language": "python",
   "name": "python3"
  },
  "language_info": {
   "codemirror_mode": {
    "name": "ipython",
    "version": 3
   },
   "file_extension": ".py",
   "mimetype": "text/x-python",
   "name": "python",
   "nbconvert_exporter": "python",
   "pygments_lexer": "ipython3",
   "version": "3.9.7"
  }
 },
 "nbformat": 4,
 "nbformat_minor": 5
}
