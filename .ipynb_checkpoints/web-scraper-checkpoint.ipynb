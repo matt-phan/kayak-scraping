{
 "cells": [
  {
   "cell_type": "code",
   "execution_count": 14,
   "id": "6a6e0c40",
   "metadata": {
    "scrolled": true
   },
   "outputs": [],
   "source": [
    "# Imports\n",
    "import pandas as pd\n",
    "from selenium import webdriver\n",
    "from webdriver_manager.chrome import ChromeDriverManager\n",
    "from selenium.webdriver.common.by import By\n",
    "\n",
    "# Install the webdriver_manager pip package in the current Jupyter kernel\n",
    "# import sys\n",
    "# !{sys.executable} -m pip install webdriver_manager"
   ]
  },
  {
   "cell_type": "code",
   "execution_count": 15,
   "id": "e0eff8d1",
   "metadata": {
    "scrolled": true
   },
   "outputs": [
    {
     "name": "stderr",
     "output_type": "stream",
     "text": [
      "\n",
      "\n",
      "====== WebDriver manager ======\n",
      "Current google-chrome version is 98.0.4758\n",
      "Get LATEST chromedriver version for 98.0.4758 google-chrome\n",
      "Driver [/Users/matt/.wdm/drivers/chromedriver/mac64/98.0.4758.80/chromedriver] found in cache\n"
     ]
    }
   ],
   "source": [
    "driver = webdriver.Chrome(ChromeDriverManager().install())"
   ]
  },
  {
   "cell_type": "code",
   "execution_count": 17,
   "id": "e8214c27",
   "metadata": {},
   "outputs": [],
   "source": [
    "def start_kayak(city_from, city_to, date_start, date_end):\n",
    "    \"\"\"City codes - it's the IATA codes!\n",
    "    Date format -  YYYY-MM-DD\"\"\"\n",
    "    \n",
    "    # Starting kayak chrome \n",
    "    kayak = ('https://www.kayak.com/flights/' + city_from + '-' + city_to +\n",
    "             '/' + date_start + '-flexible/' + date_end + '-flexible?sort=bestflight_a')\n",
    "    driver.get(kayak)"
   ]
  },
  {
   "cell_type": "code",
   "execution_count": 19,
   "id": "24c6bebf",
   "metadata": {},
   "outputs": [],
   "source": [
    "start_kayak(\"LGW\", \"CDG\", \"2022-03-15\", \"2022-03-22\")"
   ]
  }
 ],
 "metadata": {
  "kernelspec": {
   "display_name": "Python 3 (ipykernel)",
   "language": "python",
   "name": "python3"
  },
  "language_info": {
   "codemirror_mode": {
    "name": "ipython",
    "version": 3
   },
   "file_extension": ".py",
   "mimetype": "text/x-python",
   "name": "python",
   "nbconvert_exporter": "python",
   "pygments_lexer": "ipython3",
   "version": "3.9.7"
  }
 },
 "nbformat": 4,
 "nbformat_minor": 5
}
