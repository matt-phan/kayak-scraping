{
 "cells": [
  {
   "cell_type": "code",
   "execution_count": 2,
   "id": "6a6e0c40",
   "metadata": {
    "scrolled": true
   },
   "outputs": [],
   "source": [
    "# Imports\n",
    "import pandas as pd\n",
    "from selenium import webdriver\n",
    "from webdriver_manager.chrome import ChromeDriverManager\n",
    "from selenium.webdriver.common.by import By\n",
    "\n",
    "# Install the webdriver_manager pip package in the current Jupyter kernel\n",
    "# import sys\n",
    "# !{sys.executable} -m pip install webdriver_manager"
   ]
  },
  {
   "cell_type": "code",
   "execution_count": 3,
   "id": "d31d584f",
   "metadata": {
    "scrolled": true
   },
   "outputs": [
    {
     "name": "stderr",
     "output_type": "stream",
     "text": [
      "\n",
      "\n",
      "====== WebDriver manager ======\n",
      "Current google-chrome version is 98.0.4758\n",
      "Get LATEST chromedriver version for 98.0.4758 google-chrome\n",
      "There is no [mac64] chromedriver for browser  in cache\n",
      "Trying to download new driver from https://chromedriver.storage.googleapis.com/98.0.4758.102/chromedriver_mac64.zip\n",
      "Driver has been saved in cache [/Users/matt/.wdm/drivers/chromedriver/mac64/98.0.4758.102]\n"
     ]
    }
   ],
   "source": [
    "driver = webdriver.Chrome(ChromeDriverManager().install())"
   ]
  },
  {
   "cell_type": "code",
   "execution_count": 28,
   "id": "1e669d2c",
   "metadata": {},
   "outputs": [],
   "source": [
    "def start_kayak(city_from, city_to, date_start, date_end):\n",
    "    \"\"\"City codes - it's the IATA codes!\n",
    "    Date format -  YYYY-MM-DD\"\"\"\n",
    "    \n",
    "    # Starting kayak chrome \n",
    "    kayak = ('https://www.kayak.co.uk/flights/' + city_from + '-' + city_to +\n",
    "             '/' + date_start + '-flexible/' + date_end + '-flexible?sort=bestflight_a')\n",
    "    driver.get(kayak)"
   ]
  },
  {
   "cell_type": "code",
   "execution_count": 68,
   "id": "4fbf744f",
   "metadata": {},
   "outputs": [],
   "source": [
    "# functions to obtain each property of a dictionary which will then be the exported csv file\n",
    "\n",
    "\"\"\"\n",
    "{\n",
    "origin: char(3)\n",
    "destination: char(3)\n",
    "time_start: int\n",
    "time_end: int\n",
    "date_start: date\n",
    "date_end: date\n",
    "price: int\n",
    "href: string;\n",
    "}\n",
    "\"\"\"\n",
    "\n",
    "def scrape_hrefs():\n",
    "    \"\"\"\n",
    "    scrape the hrefs on the page\n",
    "    \"\"\"\n",
    "    href_xpath = '//span[contains(text(), \"View Deal\")]//parent::a' \n",
    "    anchors = driver.find_elements(By.XPATH, href_xpath)\n",
    "    \n",
    "    def get_href(anchor):\n",
    "        return anchor.get_attribute(\"href\")\n",
    "    \n",
    "    return list(map(get_href, anchors))\n",
    "\n",
    "def scrape_prices():\n",
    "    \"\"\"\n",
    "    scrape the prices on the page\n",
    "    UNFINISHED - perhaps try using conditional statements in XPath\n",
    "    \"\"\"\n",
    "#     price_xpath = '//span[@class=\"price-text\" and contains(@id, \"-price-text\")]'\n",
    "    price_xpath = '//a[@class=\"booking-link \"]//descendant::span[@class=\"price-text\"]'\n",
    "    prices = driver.find_elements(By.XPATH, price_xpath)\n",
    "    \n",
    "    return len(prices)"
   ]
  },
  {
   "cell_type": "code",
   "execution_count": 29,
   "id": "f90c798d",
   "metadata": {},
   "outputs": [],
   "source": [
    "start_kayak(\"LGW\", \"CDG\", \"2022-03-15\", \"2022-03-22\")"
   ]
  },
  {
   "cell_type": "code",
   "execution_count": 69,
   "id": "1b1c259e",
   "metadata": {
    "scrolled": false
   },
   "outputs": [
    {
     "name": "stdout",
     "output_type": "stream",
     "text": [
      "36\n"
     ]
    }
   ],
   "source": [
    "# print(scrape_hrefs())\n",
    "print(scrape_prices())"
   ]
  }
 ],
 "metadata": {
  "kernelspec": {
   "display_name": "Python 3 (ipykernel)",
   "language": "python",
   "name": "python3"
  },
  "language_info": {
   "codemirror_mode": {
    "name": "ipython",
    "version": 3
   },
   "file_extension": ".py",
   "mimetype": "text/x-python",
   "name": "python",
   "nbconvert_exporter": "python",
   "pygments_lexer": "ipython3",
   "version": "3.9.7"
  }
 },
 "nbformat": 4,
 "nbformat_minor": 5
}
